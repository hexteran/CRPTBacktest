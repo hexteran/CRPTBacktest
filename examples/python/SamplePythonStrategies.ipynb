{
 "cells": [
  {
   "cell_type": "code",
   "execution_count": 1,
   "id": "f63b01b9-2519-4450-828f-aefb5e9a6e71",
   "metadata": {},
   "outputs": [],
   "source": [
    "import PyStrategy\n",
    "import pandas as pd\n",
    "import matplotlib.pyplot as plt"
   ]
  },
  {
   "cell_type": "markdown",
   "id": "837de2fd-eeb9-4c6e-acc8-a71e96d86806",
   "metadata": {},
   "source": [
    "# Data fetching"
   ]
  },
  {
   "cell_type": "code",
   "execution_count": 2,
   "id": "31a9974f-d0bb-4c20-aa47-810b871fcbfe",
   "metadata": {},
   "outputs": [
    {
     "name": "stdout",
     "output_type": "stream",
     "text": [
      "https://data.binance.vision/data/futures/um/daily/aggTrades/THEUSDT/THEUSDT-aggTrades-2025-02-14.zip\n",
      "Extracting file: THEUSDT-aggTrades-2025-02-14.csv\n",
      "Futures loaded\n",
      "https://data.binance.vision/data/spot/daily/aggTrades/THEUSDT/THEUSDT-aggTrades-2025-02-14.zip\n"
     ]
    },
    {
     "name": "stderr",
     "output_type": "stream",
     "text": [
      "/tmp/ipykernel_872103/4253031412.py:73: FutureWarning: Downcasting behavior in `replace` is deprecated and will be removed in a future version. To retain the old behavior, explicitly call `result.infer_objects(copy=False)`. To opt-in to the future behavior, set `pd.set_option('future.no_silent_downcasting', True)`\n",
      "  df['iside'] = df['side'].replace({'BUY':1, 'SELL':-1})*df.quantity\n"
     ]
    },
    {
     "name": "stdout",
     "output_type": "stream",
     "text": [
      "Extracting file: THEUSDT-aggTrades-2025-02-14.csv\n"
     ]
    },
    {
     "name": "stderr",
     "output_type": "stream",
     "text": [
      "/tmp/ipykernel_872103/4253031412.py:85: FutureWarning: Downcasting behavior in `replace` is deprecated and will be removed in a future version. To retain the old behavior, explicitly call `result.infer_objects(copy=False)`. To opt-in to the future behavior, set `pd.set_option('future.no_silent_downcasting', True)`\n",
      "  spot_trades['iside'] = spot_trades['side'].replace({'BUY':1, 'SELL':-1})*spot_trades.quantity\n"
     ]
    }
   ],
   "source": [
    "import requests\n",
    "import zipfile\n",
    "import io\n",
    "\n",
    "def download_binance_futures_data(url):\n",
    "    \"\"\"\n",
    "    Downloads and extracts the CSV from the Binance zip file.\n",
    "    \"\"\"\n",
    "    response = requests.get(url)\n",
    "    if response.status_code == 200:\n",
    "        bytes_io = io.BytesIO(response.content)\n",
    "        with zipfile.ZipFile(bytes_io, 'r') as z:\n",
    "            csv_filename = z.namelist()[0]\n",
    "            print(f\"Extracting file: {csv_filename}\")\n",
    "            with z.open(csv_filename) as csvfile:\n",
    "                df = pd.read_csv(csvfile)\n",
    "        return df\n",
    "    else:\n",
    "        raise Exception(f\"Failed to download file. Status code: {response.status_code}\")\n",
    "\n",
    "def download_binance_spot_data(url):\n",
    "    \"\"\"\n",
    "    Downloads and extracts the CSV from the Binance zip file.\n",
    "    \"\"\"\n",
    "    response = requests.get(url)\n",
    "    if response.status_code == 200:\n",
    "        bytes_io = io.BytesIO(response.content)\n",
    "        with zipfile.ZipFile(bytes_io, 'r') as z:\n",
    "            # Assume there's one CSV file in the archive\n",
    "            csv_filename = z.namelist()[0]\n",
    "            print(f\"Extracting file: {csv_filename}\")\n",
    "            with z.open(csv_filename) as csvfile:\n",
    "                df = pd.read_csv(csvfile)\n",
    "        df.columns = [\"id\", \"price\", \"quantity\", \"start_id\", \"end_id\", \"transact_time\", \"is_buyer_maker\", \"flag\"]\n",
    "        return df\n",
    "    else:\n",
    "        raise Exception(f\"Failed to download file. Status code: {response.status_code}\")\n",
    "\n",
    "def transform_binance_trades(df, symbol='BTCUSDT', isSpot = False):\n",
    "    \"\"\"\n",
    "    Transforms the Binance aggTrades DataFrame into the format:\n",
    "      - symbol: LowCardinality(String) [constant value]\n",
    "      - price: Float32\n",
    "      - quantity: Float32\n",
    "      - side: Enum8('BUY' = 0, 'SELL' = 1) determined from is_buyer_maker\n",
    "      - event_timestamp: DateTime64(9) converted from transact_time (ms)\n",
    "    \"\"\"\n",
    "    \n",
    "    transformed_df = pd.DataFrame()\n",
    "\n",
    "    #transformed_df['id'] = df['agg_trade_id']\n",
    "    # Set a constant symbol (can be parameterized)\n",
    "    transformed_df['symbol'] = symbol\n",
    "    \n",
    "    # Convert price and quantity to Float32\n",
    "    transformed_df['price'] = df['price'].astype('float32')\n",
    "    transformed_df['quantity'] = df['quantity'].astype('float32')\n",
    "    \n",
    "    # Determine side: if is_buyer_maker is True, then the maker is the buyer,\n",
    "    # meaning the aggressor was selling. Otherwise, it's a BUY.\n",
    "    transformed_df['side'] = df['is_buyer_maker'].apply(lambda x: 'SELL' if x else 'BUY')\n",
    "\n",
    "    transformed_df['event_timestamp'] = pd.to_datetime(df['transact_time'], unit='ms' if not isSpot else 'us').round('ms')\n",
    "    transformed_df['symbol'] = symbol\n",
    "    return transformed_df\n",
    "\n",
    "if __name__ == \"__main__\":\n",
    "    symbol = \"THEUSDT\"\n",
    "    url = f\"https://data.binance.vision/data/futures/um/daily/aggTrades/{symbol}/{symbol}-aggTrades-2025-02-14.zip\"\n",
    "    print(url)\n",
    "    df = transform_binance_trades(download_binance_futures_data(url), symbol)\n",
    "    print(\"Futures loaded\")\n",
    "    df['iside'] = df['side'].replace({'BUY':1, 'SELL':-1})*df.quantity\n",
    "    df = pd.concat([df[['event_timestamp', 'price']].groupby('event_timestamp').mean(),\n",
    "            df[['event_timestamp', 'quantity']].groupby('event_timestamp').sum(),\n",
    "            df[['event_timestamp', 'iside']].groupby('event_timestamp').sum()], \n",
    "            axis = 1)\n",
    "    df['side'] = (df['iside'] > 0).replace({True: PyStrategy.Side.Buy, False: PyStrategy.Side.Sell})\n",
    "    df['symbol'] = symbol+'_future'\n",
    "    future_trades = df\n",
    "    url = f\"https://data.binance.vision/data/spot/daily/aggTrades/{symbol}/{symbol}-aggTrades-2025-02-14.zip\"\n",
    "    print(url)\n",
    "    spot_trades = transform_binance_trades(download_binance_spot_data(url), symbol, True)\n",
    "    spot_trades['event_timestamp'] = spot_trades.event_timestamp.apply(lambda x: x.round('ms'))\n",
    "    spot_trades['iside'] = spot_trades['side'].replace({'BUY':1, 'SELL':-1})*spot_trades.quantity\n",
    "    spot_trades = pd.concat([spot_trades[['event_timestamp', 'price']].groupby('event_timestamp').mean(),\n",
    "            spot_trades[['event_timestamp', 'quantity']].groupby('event_timestamp').sum(),\n",
    "            spot_trades[['event_timestamp', 'iside']].groupby('event_timestamp').sum()], \n",
    "            axis = 1)\n",
    "    spot_trades['side'] = (spot_trades['iside'] > 0).replace({True: PyStrategy.Side.Buy, False: PyStrategy.Side.Sell})\n",
    "    spot_trades['symbol'] = symbol+'_spot'"
   ]
  },
  {
   "cell_type": "markdown",
   "id": "2984130f-683a-45aa-a937-5267b88aabcc",
   "metadata": {},
   "source": [
    "# Price visualization"
   ]
  },
  {
   "cell_type": "code",
   "execution_count": null,
   "id": "8c8f5d85-c5d4-4932-b5f5-3461c6f3e06d",
   "metadata": {},
   "outputs": [],
   "source": [
    "#prices\n",
    "df['price'].plot()\n",
    "spot_trades['price'].plot(alpha=0.3)"
   ]
  },
  {
   "cell_type": "code",
   "execution_count": null,
   "id": "daae800c-250b-4cb6-aa8c-3649b300c1b3",
   "metadata": {},
   "outputs": [],
   "source": [
    "#show spot-future spread\n",
    "spread = pd.DataFrame({'future_price':future_trades['price'].resample('100ms').last().dropna(),\n",
    "            'spot_price':spot_trades['price'].resample('100ms').last().dropna()}).dropna()\n",
    "\n",
    "spread = spread.future_price - spread.spot_price\n",
    "spread.plot()"
   ]
  },
  {
   "cell_type": "markdown",
   "id": "76ec7974-fe2e-41c8-9106-0ce22f711b1c",
   "metadata": {},
   "source": [
    "# Data storage creation"
   ]
  },
  {
   "cell_type": "code",
   "execution_count": null,
   "id": "94cb5a97-d6d9-418b-97f4-696cea8ab20e",
   "metadata": {},
   "outputs": [],
   "source": [
    "#create data storage that will contain all the price data that will be used by the backtest\n",
    "dataStorage = PyStrategy.DataStorage() "
   ]
  },
  {
   "cell_type": "markdown",
   "id": "bd5fa500-bd84-427f-9ef9-4b67cd23aa94",
   "metadata": {},
   "source": [
    "# Backtest"
   ]
  },
  {
   "cell_type": "markdown",
   "id": "4c4495e9-9ccd-4f2b-8fe7-f93310f8a969",
   "metadata": {},
   "source": [
    "## Simple ladder strategy"
   ]
  },
  {
   "cell_type": "code",
   "execution_count": null,
   "id": "6c704600-8c8a-4059-94af-cb177f000c07",
   "metadata": {},
   "outputs": [],
   "source": [
    "#adding data\n",
    "dataStorage.AddVMDTrades(\n",
    "    \"THEUSDT_futures\",\n",
    "    df.index.astype(int), #nanosecond ts, any other resolution will work as well as long as order is the same for all time series provided\n",
    "    df.price,\n",
    "    df.quantity,\n",
    "    df.side,\n",
    "    df.symbol\n",
    ")"
   ]
  },
  {
   "cell_type": "code",
   "execution_count": null,
   "id": "3d0b9014-16f9-492e-b4a8-ec27a735f1bb",
   "metadata": {},
   "outputs": [],
   "source": [
    "#create a strategy class that will act on trade events\n",
    "class SimpleLadder(PyStrategy.Strategy):\n",
    "    def __init__(self):\n",
    "        super().__init__(0,0, dataStorage)\n",
    "        self.PriceLevel = 0.8\n",
    "        self.Size = 0.75\n",
    "        self.Count = 10\n",
    "        self.Delta = 0.03\n",
    "        self.Activated = False\n",
    "        self.ActivTS = 0\n",
    "        self.Removed = False\n",
    "\n",
    "    def sendQuotes(self):\n",
    "        for i in range(self.Count):\n",
    "            order = self.SendOrder(\"THEUSDT\", \n",
    "                                         self.PriceLevel + i*self.Delta, \n",
    "                                         self.Size, \n",
    "                                         PyStrategy.Side.Sell, \n",
    "                                         PyStrategy.OrderType.Limit, \n",
    "                                         f\"Random quote #{i}\")\n",
    "        \n",
    "    def OnTrade(self, trade):\n",
    "        if (trade.Price > 0.8 and not self.Activated):\n",
    "            self.sendQuotes()\n",
    "            self.Activated = True\n",
    "            self.ActivTS = trade.LocalTimestamp\n",
    "        elif (self.Activated and trade.LocalTimestamp - self.ActivTS > 10*1e9 and not self.Removed):\n",
    "            self.Removed = True\n",
    "            for order in self.orders:\n",
    "                print(order.Text)\n",
    "                if (order.State == PyStrategy.OrderState.Active):\n",
    "                    self.CancelOrder(order)\n",
    "\n",
    "    def OnNewOrder(self, order):\n",
    "        print(f\"New order: {order.to_string()}\")\n",
    "\n",
    "    def OnOrderFilled(self, order):\n",
    "        print(f\"Filled order: {order.to_string()}\")"
   ]
  },
  {
   "cell_type": "code",
   "execution_count": null,
   "id": "54f2285d-fb21-43dc-a428-ab99642b4ce8",
   "metadata": {},
   "outputs": [],
   "source": [
    "strategy = SimpleLadder()\n",
    "strategy.CommitData()"
   ]
  },
  {
   "cell_type": "code",
   "execution_count": null,
   "id": "ded4adee-412f-4b2d-a125-19ca79aa59b0",
   "metadata": {},
   "outputs": [],
   "source": [
    "strategy.Run()"
   ]
  },
  {
   "cell_type": "code",
   "execution_count": null,
   "id": "7119e3ad-a056-447b-8316-cabe34a50925",
   "metadata": {},
   "outputs": [],
   "source": [
    "#show ALL orders\n",
    "pd.DataFrame(strategy.GetOrders())"
   ]
  },
  {
   "cell_type": "code",
   "execution_count": null,
   "id": "d2bf212d-8c99-46f4-9ecb-f4d9398a7948",
   "metadata": {},
   "outputs": [],
   "source": [
    "#show FILLED orders\n",
    "pd.DataFrame(strategy.GetFilledOrders())"
   ]
  },
  {
   "cell_type": "markdown",
   "id": "633933cd-5bcd-4d47-87dd-ba1d1b259bb6",
   "metadata": {},
   "source": [
    "## Spreads trading"
   ]
  },
  {
   "cell_type": "code",
   "execution_count": null,
   "id": "76a2d5c1-2e31-4343-b0e3-79dcd44d03c5",
   "metadata": {},
   "outputs": [],
   "source": [
    "#adding data\n",
    "dataStorage.AddVMDTrades(\n",
    "    \"THEUSDT_spot\",\n",
    "    spot_trades.index.astype(int), #nanosecond ts, any other resolution will work as well as long as order is the same for all time series provided\n",
    "    spot_trades.price,\n",
    "    spot_trades.quantity,\n",
    "    spot_trades.side,\n",
    "    spot_trades.symbol\n",
    ")"
   ]
  },
  {
   "cell_type": "code",
   "execution_count": null,
   "id": "9d1e77d5-1fd4-4ca1-9e14-5ab4060f8bc0",
   "metadata": {},
   "outputs": [],
   "source": [
    "class SpreadQuoter(PyStrategy.Strategy):\n",
    "    def __init__(self, executionLatencyMs, marketDataLatencyMs):\n",
    "        super().__init__(int(executionLatencyMs*1e6), int(marketDataLatencyMs*1e6), dataStorage) #providing 150ms latency both on md and execution\n",
    "        self.MaxLongPosition = 150\n",
    "        self.MaxShortPosition = 150\n",
    "        self.Sensitivity = 0.01\n",
    "        self.Spread = 0\n",
    "        self.BidOffset = 0.1\n",
    "        self.AskOffset = 0.1\n",
    "        self.OrderSize = 10\n",
    "\n",
    "        self.__lastUpdatePrice = 0\n",
    "        self.__position = 0 #single aggregated spread position\n",
    "        self.__bidQuote = None\n",
    "        self.__askQuote = None\n",
    "        self.__spreadOrderId = 0\n",
    "\n",
    "    def cancelIfLegit(self, order):\n",
    "        if (order is not None and order.State == PyStrategy.OrderState.Active):\n",
    "            self.CancelOrder(order)\n",
    "    \n",
    "    def TrySendBidQuote(self):\n",
    "        self.cancelIfLegit(self.__bidQuote)\n",
    "        \n",
    "        if (self.__position >= self.MaxLongPosition):\n",
    "            return False\n",
    "\n",
    "        self.__bidQuote = self.SendOrder('THEUSDT_future', \n",
    "                        self.__lastUpdatePrice - self.BidOffset + self.Spread,\n",
    "                        min(self.OrderSize, self.MaxLongPosition - self.OrderSize),\n",
    "                        PyStrategy.Side.Buy,\n",
    "                        PyStrategy.OrderType.Limit, \n",
    "                        f\"{self.__spreadOrderId}b\")\n",
    "        return True     \n",
    "        \n",
    "\n",
    "    def TrySendAskQuote(self):\n",
    "        self.cancelIfLegit(self.__askQuote)\n",
    "        \n",
    "        if (-self.__position >= self.MaxShortPosition):\n",
    "            return False\n",
    "\n",
    "        self.__askQuote = self.SendOrder('THEUSDT_future', \n",
    "                        self.__lastUpdatePrice + self.AskOffset + self.Spread,\n",
    "                        min(self.OrderSize, self.MaxShortPosition - self.OrderSize),\n",
    "                        PyStrategy.Side.Sell,\n",
    "                        PyStrategy.OrderType.Limit, \n",
    "                        f\"{self.__spreadOrderId}a\")\n",
    "        return True     \n",
    "        \n",
    "    def OnTrade(self, trade):\n",
    "        if (trade.Instrument == 'THEUSDT_future'):\n",
    "            return\n",
    "\n",
    "        if (abs(self.__lastUpdatePrice - trade.Price) > self.Sensitivity):\n",
    "            self.__lastUpdatePrice = trade.Price\n",
    "            self.__spreadOrderId += 1\n",
    "            self.TrySendBidQuote()\n",
    "            self.TrySendAskQuote()\n",
    "\n",
    "    def OnOrderFilled(self, order):\n",
    "        if (order.Instrument == 'THEUSDT_spot'):\n",
    "            return\n",
    "            \n",
    "        self.SendOrder('THEUSDT_spot', \n",
    "                        self.__lastUpdatePrice,\n",
    "                        order.FilledQty,\n",
    "                        PyStrategy.Side.Buy if order.OrderSide == PyStrategy.Side.Sell else PyStrategy.Side.Sell,\n",
    "                        PyStrategy.OrderType.Market,\n",
    "                        order.Text)\n",
    "\n",
    "        self.__position += order.FilledQty if order.OrderSide == PyStrategy.Side.Buy else -order.FilledQty"
   ]
  },
  {
   "cell_type": "code",
   "execution_count": null,
   "id": "a6d37cb0-2daf-43f6-95c4-717aa9c9cafa",
   "metadata": {},
   "outputs": [],
   "source": [
    "strategy = SpreadQuoter(30, 15)\n",
    "strategy.CommitData()"
   ]
  },
  {
   "cell_type": "code",
   "execution_count": null,
   "id": "008416cd-c32e-43c3-ab43-0694e9c47652",
   "metadata": {},
   "outputs": [],
   "source": [
    "strategy.Run()"
   ]
  },
  {
   "cell_type": "code",
   "execution_count": null,
   "id": "1c7c2931-3873-4e2a-a27f-e8ade37aa0ce",
   "metadata": {},
   "outputs": [],
   "source": [
    "print(f\"It was sent {len(strategy.GetOrders())} orders, filled {len(strategy.GetFilledOrders())}\")"
   ]
  },
  {
   "cell_type": "code",
   "execution_count": null,
   "id": "ada1b493-c9db-4e78-9687-79f43619b307",
   "metadata": {},
   "outputs": [],
   "source": [
    "spread_trades = pd.DataFrame(strategy.GetFilledOrders()).set_index('text')\n",
    "spread_trades = pd.DataFrame({'spread': spread_trades[spread_trades['instrument'] == 'THEUSDT_future']['exec_price'] - spread_trades[spread_trades['instrument'] == 'THEUSDT_spot']['exec_price'],\n",
    "                 'side': spread_trades[spread_trades['instrument'] == 'THEUSDT_future']['side'],\n",
    "                 'filled_qty': spread_trades[spread_trades['instrument'] == 'THEUSDT_future']['filled_qty'],\n",
    "                 'ts_first_leg_executed': spread_trades[spread_trades['instrument'] == 'THEUSDT_future']['last_report_timestamp'],\n",
    "                 'ts_second_leg_executed': spread_trades[spread_trades['instrument'] == 'THEUSDT_spot']['last_report_timestamp']})\n",
    "spread_trades['ts_first_leg_executed'] = pd.to_datetime(spread_trades['ts_first_leg_executed'])\n",
    "spread_trades['ts_second_leg_executed'] = pd.to_datetime(spread_trades['ts_second_leg_executed'])"
   ]
  },
  {
   "cell_type": "code",
   "execution_count": null,
   "id": "14b9b7f3-1d0f-49df-9c0e-c037bbb5abee",
   "metadata": {},
   "outputs": [],
   "source": [
    "#show spread trades\n",
    "spread_trades"
   ]
  }
 ],
 "metadata": {
  "kernelspec": {
   "display_name": "Python 3 (ipykernel)",
   "language": "python",
   "name": "python3"
  },
  "language_info": {
   "codemirror_mode": {
    "name": "ipython",
    "version": 3
   },
   "file_extension": ".py",
   "mimetype": "text/x-python",
   "name": "python",
   "nbconvert_exporter": "python",
   "pygments_lexer": "ipython3",
   "version": "3.12.7"
  }
 },
 "nbformat": 4,
 "nbformat_minor": 5
}
