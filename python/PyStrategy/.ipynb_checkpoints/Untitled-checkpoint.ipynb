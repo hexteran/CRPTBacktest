{
 "cells": [
  {
   "cell_type": "code",
   "execution_count": 29,
   "id": "a126133d-61e8-4a30-951f-00f30a93bf14",
   "metadata": {},
   "outputs": [],
   "source": [
    "from PyStrategy import *\n",
    "import pandas as pd"
   ]
  },
  {
   "cell_type": "code",
   "execution_count": 33,
   "id": "26bdbf6c-b7b1-41c0-846d-430a211dafab",
   "metadata": {},
   "outputs": [],
   "source": [
    "data_all = pd.read_csv(\"/home/hexteran/git/notebooks/ASTSUSDT_BINANCE.csv\", header = None)"
   ]
  },
  {
   "cell_type": "code",
   "execution_count": 35,
   "id": "58dcb280-77e6-4395-900b-336dc84fd33e",
   "metadata": {},
   "outputs": [],
   "source": [
    "data = data_all.to_dict(orient = 'list')"
   ]
  },
  {
   "cell_type": "code",
   "execution_count": 36,
   "id": "587e636a-ed2a-4d1c-b6e8-c05e43ee65c3",
   "metadata": {},
   "outputs": [],
   "source": [
    "trades = []\n",
    "for i in range(len(data[0])):\n",
    "    trade = MDTrade()\n",
    "    trade.EventTimestamp = data[0][i]\n",
    "    trade.Price = data[1][i]\n",
    "    trade.Qty = data[2][i]\n",
    "    trade.AggressorSide = Side.Buy if data[3][i] == 'BUY' else Side.Sell\n",
    "    trade.Instrument = data[4][i]\n",
    "    trades.append(trade)"
   ]
  },
  {
   "cell_type": "code",
   "execution_count": 38,
   "id": "ccd01cb2-54ab-43f5-b389-8b47855712cb",
   "metadata": {},
   "outputs": [],
   "source": [
    "md_trades = []\n",
    "class SomeStrategy(Strategy):\n",
    "    def OnTrade(self, trade):\n",
    "        md_trades.append(trade)\n",
    "\n",
    "strategy = SomeStrategy(0,0)\n",
    "strategy.AddMDTrades({'trades':trades})\n",
    "strategy.Run()"
   ]
  },
  {
   "cell_type": "code",
   "execution_count": 49,
   "id": "a97e822f-61f7-4f03-a609-de11d95cfcac",
   "metadata": {},
   "outputs": [
    {
     "data": {
      "text/html": [
       "<div>\n",
       "<style scoped>\n",
       "    .dataframe tbody tr th:only-of-type {\n",
       "        vertical-align: middle;\n",
       "    }\n",
       "\n",
       "    .dataframe tbody tr th {\n",
       "        vertical-align: top;\n",
       "    }\n",
       "\n",
       "    .dataframe thead th {\n",
       "        text-align: right;\n",
       "    }\n",
       "</style>\n",
       "<table border=\"1\" class=\"dataframe\">\n",
       "  <thead>\n",
       "    <tr style=\"text-align: right;\">\n",
       "      <th></th>\n",
       "      <th>0</th>\n",
       "      <th>1</th>\n",
       "      <th>2</th>\n",
       "      <th>3</th>\n",
       "      <th>4</th>\n",
       "      <th>5</th>\n",
       "    </tr>\n",
       "  </thead>\n",
       "  <tbody>\n",
       "    <tr>\n",
       "      <th>0</th>\n",
       "      <td>1731704299763000064</td>\n",
       "      <td>872</td>\n",
       "      <td>74</td>\n",
       "      <td>BUY</td>\n",
       "      <td>ASTUSDT</td>\n",
       "      <td>BINANCE</td>\n",
       "    </tr>\n",
       "    <tr>\n",
       "      <th>1</th>\n",
       "      <td>1731704331849999872</td>\n",
       "      <td>872</td>\n",
       "      <td>194</td>\n",
       "      <td>BUY</td>\n",
       "      <td>ASTUSDT</td>\n",
       "      <td>BINANCE</td>\n",
       "    </tr>\n",
       "    <tr>\n",
       "      <th>2</th>\n",
       "      <td>1731704346191000064</td>\n",
       "      <td>872</td>\n",
       "      <td>111</td>\n",
       "      <td>BUY</td>\n",
       "      <td>ASTUSDT</td>\n",
       "      <td>BINANCE</td>\n",
       "    </tr>\n",
       "    <tr>\n",
       "      <th>3</th>\n",
       "      <td>1731704346191000064</td>\n",
       "      <td>872</td>\n",
       "      <td>137</td>\n",
       "      <td>BUY</td>\n",
       "      <td>ASTUSDT</td>\n",
       "      <td>BINANCE</td>\n",
       "    </tr>\n",
       "    <tr>\n",
       "      <th>4</th>\n",
       "      <td>1731704346192000000</td>\n",
       "      <td>872</td>\n",
       "      <td>93</td>\n",
       "      <td>BUY</td>\n",
       "      <td>ASTUSDT</td>\n",
       "      <td>BINANCE</td>\n",
       "    </tr>\n",
       "    <tr>\n",
       "      <th>...</th>\n",
       "      <td>...</td>\n",
       "      <td>...</td>\n",
       "      <td>...</td>\n",
       "      <td>...</td>\n",
       "      <td>...</td>\n",
       "      <td>...</td>\n",
       "    </tr>\n",
       "    <tr>\n",
       "      <th>328687</th>\n",
       "      <td>1733434209529999872</td>\n",
       "      <td>1253</td>\n",
       "      <td>45</td>\n",
       "      <td>SELL</td>\n",
       "      <td>ASTUSDT</td>\n",
       "      <td>BINANCE</td>\n",
       "    </tr>\n",
       "    <tr>\n",
       "      <th>328688</th>\n",
       "      <td>1733434209530999808</td>\n",
       "      <td>1253</td>\n",
       "      <td>442</td>\n",
       "      <td>SELL</td>\n",
       "      <td>ASTUSDT</td>\n",
       "      <td>BINANCE</td>\n",
       "    </tr>\n",
       "    <tr>\n",
       "      <th>328689</th>\n",
       "      <td>1733434209530999808</td>\n",
       "      <td>1253</td>\n",
       "      <td>148</td>\n",
       "      <td>SELL</td>\n",
       "      <td>ASTUSDT</td>\n",
       "      <td>BINANCE</td>\n",
       "    </tr>\n",
       "    <tr>\n",
       "      <th>328690</th>\n",
       "      <td>1733434215826999808</td>\n",
       "      <td>1254</td>\n",
       "      <td>52</td>\n",
       "      <td>BUY</td>\n",
       "      <td>ASTUSDT</td>\n",
       "      <td>BINANCE</td>\n",
       "    </tr>\n",
       "    <tr>\n",
       "      <th>328691</th>\n",
       "      <td>1733434217484000000</td>\n",
       "      <td>1252</td>\n",
       "      <td>48</td>\n",
       "      <td>SELL</td>\n",
       "      <td>ASTUSDT</td>\n",
       "      <td>BINANCE</td>\n",
       "    </tr>\n",
       "  </tbody>\n",
       "</table>\n",
       "<p>328692 rows × 6 columns</p>\n",
       "</div>"
      ],
      "text/plain": [
       "                          0     1    2     3        4        5\n",
       "0       1731704299763000064   872   74   BUY  ASTUSDT  BINANCE\n",
       "1       1731704331849999872   872  194   BUY  ASTUSDT  BINANCE\n",
       "2       1731704346191000064   872  111   BUY  ASTUSDT  BINANCE\n",
       "3       1731704346191000064   872  137   BUY  ASTUSDT  BINANCE\n",
       "4       1731704346192000000   872   93   BUY  ASTUSDT  BINANCE\n",
       "...                     ...   ...  ...   ...      ...      ...\n",
       "328687  1733434209529999872  1253   45  SELL  ASTUSDT  BINANCE\n",
       "328688  1733434209530999808  1253  442  SELL  ASTUSDT  BINANCE\n",
       "328689  1733434209530999808  1253  148  SELL  ASTUSDT  BINANCE\n",
       "328690  1733434215826999808  1254   52   BUY  ASTUSDT  BINANCE\n",
       "328691  1733434217484000000  1252   48  SELL  ASTUSDT  BINANCE\n",
       "\n",
       "[328692 rows x 6 columns]"
      ]
     },
     "execution_count": 49,
     "metadata": {},
     "output_type": "execute_result"
    }
   ],
   "source": [
    "data_all"
   ]
  },
  {
   "cell_type": "code",
   "execution_count": 55,
   "id": "10944fb5-b408-440a-a0c8-72b1d37f879d",
   "metadata": {},
   "outputs": [
    {
     "name": "stdout",
     "output_type": "stream",
     "text": [
      "order\n"
     ]
    }
   ],
   "source": [
    "md_trades = []\n",
    "class SomeStrategy(Strategy):\n",
    "    def OnOrderFilled(self, trade):\n",
    "        print('order')\n",
    "\n",
    "strategy = SomeStrategy(0,0)\n",
    "strategy.AddMDTrades({'trades':trades})\n",
    "strategy.SendOrder('ASTUSDT', 800, 1, Side.Buy, OrderType.Limit)\n",
    "strategy.Run()\n",
    "\n",
    "filled_order = strategy.GetFilledOrders()[0]\n",
    "plt.plot(data_all[0], data_all[1])\n",
    "plt.scatter(filled_order['last_report_timestamp'], filled_order['exec_price'], color = 'red', zorder = 10)"
   ]
  },
  {
   "cell_type": "code",
   "execution_count": 57,
   "id": "068abd39-0e1d-40d2-93af-85db2e93cd47",
   "metadata": {},
   "outputs": [
    {
     "data": {
      "text/plain": [
       "[{'instrument': 'ASTUSDT',\n",
       "  'nominal_price': 800.0,\n",
       "  'exec_price': 800.0,\n",
       "  'qty': 1.0,\n",
       "  'filled_qty': 1.0,\n",
       "  'create_timestamp': 0,\n",
       "  'last_report_timestamp': 1732148637605999872,\n",
       "  'side': 'BUY'}]"
      ]
     },
     "execution_count": 57,
     "metadata": {},
     "output_type": "execute_result"
    }
   ],
   "source": [
    "strategy.GetFilledOrders()"
   ]
  },
  {
   "cell_type": "code",
   "execution_count": 63,
   "id": "888b7db0-a328-4f35-b589-61292e9a07b9",
   "metadata": {},
   "outputs": [
    {
     "data": {
      "text/plain": [
       "<matplotlib.collections.PathCollection at 0x71c3578e8260>"
      ]
     },
     "execution_count": 63,
     "metadata": {},
     "output_type": "execute_result"
    },
    {
     "data": {
      "image/png": "[encoded data removed]",
      "text/plain": [
       "<Figure size 640x480 with 1 Axes>"
      ]
     },
     "metadata": {},
     "output_type": "display_data"
    }
   ],
   "source": []
  },
  {
   "cell_type": "code",
   "execution_count": null,
   "id": "786fb2ba-ca11-4e98-9a8a-690548e41f64",
   "metadata": {},
   "outputs": [],
   "source": []
  }
 ],
 "metadata": {
  "kernelspec": {
   "display_name": "Python 3 (ipykernel)",
   "language": "python",
   "name": "python3"
  },
  "language_info": {
   "codemirror_mode": {
    "name": "ipython",
    "version": 3
   },
   "file_extension": ".py",
   "mimetype": "text/x-python",
   "name": "python",
   "nbconvert_exporter": "python",
   "pygments_lexer": "ipython3",
   "version": "3.12.4"
  }
 },
 "nbformat": 4,
 "nbformat_minor": 5
}
