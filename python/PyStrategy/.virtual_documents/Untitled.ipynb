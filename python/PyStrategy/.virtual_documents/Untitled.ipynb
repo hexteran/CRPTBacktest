from PyStrategy import *
import pandas as pd
import matplotlib.pyplot as plt
import numpy as np
import plotly.express as px


def ns_to_datetime(ns):
    microseconds = ns / 1000
    epoch = datetime.datetime(1970, 1, 1)
    return epoch + datetime.timedelta(microseconds=microseconds)


data_all = pd.read_csv("/home/hexteran/git/notebooks/ASTSUSDT_BINANCE.csv", header = None)
data_all['ts'] = pd.to_datetime(data_all[0], unit = 'ns')
data_all['10000_mean']= data_all[1].rolling(10000).mean()
data_all['1000_mean']= data_all[1].rolling(1000).mean()


data = data_all.to_dict(orient = 'list')
trades = []
sma1000 = []
sma10000 = []
trade = MDTrade()
update = MDCustomUpdate()
for i in range(len(data[0])):
    pass
    #trade = MDTrade()
    trade.EventTimestamp = data[0][i]
    trade.Price = data[1][i]
    trade.Qty = data[2][i]
    trade.AggressorSide = Side.Buy if data[3][i] == 'BUY' else Side.Sell
    trade.Instrument = data[4][i]
    trades.append(trade)
    
    if (data_all['10000_mean'][i] != None):
        #update = MDCustomUpdate()
        update.EventTimestamp = trade.EventTimestamp
        update.Payload = data_all['10000_mean'][i]
        update.Text = "10000"
        sma10000.append(update)
        
    if (data_all['1000_mean'][i] != None):
        #update = MDCustomUpdate()
        update.EventTimestamp = trade.EventTimestamp
        update.Payload = data_all['1000_mean'][i]
        update.Text = "1000"
        sma1000.append(update)


md_trades = []
md_custom_updates = []
class SomeStrategy(Strategy):
    def OnTrade(self, trade):
        md_trades.append(trade)
    def OnCustomUpdate(self, custom_update):
        if (custom_update.Text == '10000'):
            md_custom_updates.append(custom_update)
        
dataStorage = DataStorage()
dataStorage.AddMDTrades({'trades':trades})
dataStorage.AddMDCustomUpdates({'1000':sma1000, '10000':sma10000})

strategy = SomeStrategy(0,0, dataStorage)
strategy.CommitData()
strategy.Run()


md_trades = []
class SomeStrategy(Strategy):
    def OnOrderFilled(self, trade):
        print('order')

strategy = SomeStrategy(0,0)
strategy.AddMDTrades({'trades':trades})
strategy.SendOrder('ASTUSDT', 800, 1, Side.Buy, OrderType.Limit)
strategy.Run()

filled_order = strategy.GetFilledOrders()[0]
plt.plot(data_all[0], data_all[1])
plt.scatter(filled_order['last_report_timestamp'], filled_order['exec_price'], color = 'red', zorder = 10)


md_trades = []
class SomeStrategy(Strategy):
    def Init(self):
        self.order = None
        self.flag = False
        self.param = pd.to_datetime('2024-11-20 05:00:00') #made it a separate parameter as pd.to_datetime is VERY slow
    
    def OnOrderFilled(self, order):
        print('order')

    def OnTrade(self, trade):
        if self.order == None:
            self.order = self.SendOrder('ASTUSDT', 800, 1, Side.Buy, OrderType.Limit)
        if (ns_to_datetime(trade.LocalTimestamp) > self.param) and not self.flag:
            self.flag = True
            self.CancelOrder(self.order)
            
strategy = SomeStrategy(0,0)
strategy.AddMDTrades({'trades':trades})
strategy.Init()
strategy.Run()

if (len(strategy.GetFilledOrders()) == 0):
    print('No orders')
else:
    filled_order = strategy.GetFilledOrders()[0]
    plt.plot(data_all[0], data_all[1])
    plt.scatter(filled_order['last_report_timestamp'], filled_order['exec_price'], color = 'red', zorder = 10)


md_trades = []
class SomeStrategy(Strategy):
    def Init(self):
        self.order = None
        self.flag = False
        self.param = pd.to_datetime('2024-11-16 05:00:00') #made it a separate parameter as pd.to_datetime is VERY slow
    
    def OnOrderFilled(self, order):
        print('order')

    def OnTrade(self, trade):
        if self.order == None:
            self.order = self.SendOrder('ASTUSDT', 800, 1, Side.Buy, OrderType.Limit)
        if (ns_to_datetime(trade.LocalTimestamp) > self.param) and not self.flag:
            self.flag = True
            self.CancelOrder(self.order)
            self.order = self.SendOrder('ASTUSDT', 0, 1, Side.Buy, OrderType.Market)
strategy = SomeStrategy(0,0)
strategy.AddMDTrades({'trades':trades})
strategy.Init()
strategy.Run()

if (len(strategy.GetFilledOrders()) == 0):
    print('No orders')
else:
    filled_order = strategy.GetFilledOrders()[0]
    plt.plot(data_all[0], data_all[1])
    plt.scatter(filled_order['last_report_timestamp'], filled_order['exec_price'], color = 'red', zorder = 10)


md_trades = []
class SomeStrategy(Strategy):
    def Init(self):
        self.order = None
        self.inPosition = True
        self.prevLongUpdate = 0
        self.allTradePrices = []
    
    def OnOrderFilled(self, order):
        #print('order')
        pass

    def OnTrade(self, trade):
        self.allTradePrices.append(trade.Price)
            
    def OnCustomUpdate(self, custom_update):
        if(custom_update.Text == '10000'):
            self.prevLongUpdate = custom_update.Payload
        
        elif self.prevLongUpdate > custom_update.Payload and self.inPosition == False:
            self.inPosition = True
            self.order = self.SendOrder('ASTUSDT', 0, 1, Side.Buy, OrderType.Market)
        elif self.prevLongUpdate < custom_update.Payload and self.inPosition == True:
            self.inPosition = False
            self.order = self.SendOrder('ASTUSDT', 0, 1, Side.Sell, OrderType.Market)
        
strategy = SomeStrategy(0,0)
strategy.AddMDTrades({'trades':trades})
strategy.AddMDCustomUpdates({'10000':sma10000, '1000':sma1000})
strategy.Init()
strategy.Run()

result = pd.DataFrame(strategy.GetFilledOrders())
result.last_report_timestamp = pd.to_datetime(result.last_report_timestamp, unit = 'ns')
buys = result[result['side'] == 'BUY']
sells = result[result['side'] == 'SELL']

#plot the result
trades_line = px.line(
    data_all[data_all.index % 100 == 0],
    x='ts',
    y=[1, '10000_mean', '1000_mean'],
    title="Trades Plot",
    width=1200,
    height=600
)

trades_line.add_scatter(
    x=buys.last_report_timestamp,
    y=buys.exec_price,
    mode="markers",
    marker=dict(color='green', size=10),
    name="Buys"
)

trades_line.add_scatter(
    x=sells.last_report_timestamp,
    y=sells.exec_price,
    mode="markers",
    marker=dict(color='red', size=10),
    name="Sells"
)
trades_line.show()

#pnl line plot
result['signed_qty'] = result['side'].replace({'SELL':1,'BUY':-1})*result['filled_qty']
result['net_position'] = result.signed_qty.cumsum()
result['pnl'] = (result.signed_qty * result.exec_price).cumsum()
pnl_curve = result
pnl_line = px.line(
    pnl_curve[pnl_curve.net_position == 0],
    x='last_report_timestamp',
    y=['pnl'],
    title="PnL Plot",
    width=1200, 
    height=600,
    markers = True
)
pnl_line.show()



