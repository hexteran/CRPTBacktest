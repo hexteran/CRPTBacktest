from PyStrategy import *
import pandas as pd


data_all = pd.read_csv("/home/hexteran/git/notebooks/ASTSUSDT_BINANCE.csv", header = None)


data = data_all.to_dict(orient = 'list')


trades = []
for i in range(len(data[0])):
    trade = MDTrade()
    trade.EventTimestamp = data[0][i]
    trade.Price = data[1][i]
    trade.Qty = data[2][i]
    trade.AggressorSide = Side.Buy if data[3][i] == 'BUY' else Side.Sell
    trade.Instrument = data[4][i]
    trades.append(trade)


md_trades = []
class SomeStrategy(Strategy):
    def OnTrade(self, trade):
        md_trades.append(trade)

strategy = SomeStrategy(0,0)
strategy.AddMDTrades({'trades':trades})
strategy.Run()


data_all


md_trades = []
class SomeStrategy(Strategy):
    def OnOrderFilled(self, trade):
        print('order')

strategy = SomeStrategy(0,0)
strategy.AddMDTrades({'trades':trades})
strategy.SendOrder('ASTUSDT', 800, 1, Side.Buy, OrderType.Limit)
strategy.Run()

filled_order = strategy.GetFilledOrders()[0]
plt.plot(data_all[0], data_all[1])
plt.scatter(filled_order['last_report_timestamp'], filled_order['exec_price'], color = 'red', zorder = 10)


strategy.GetFilledOrders()






