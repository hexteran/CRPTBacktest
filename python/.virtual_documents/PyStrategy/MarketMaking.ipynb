from PyStrategy import *


import pandas as pd
import numpy as np


ttf_quotes = pd.read_csv('~/data/MM/ttf_m1_year_quotes.csv')
ttf_quotes['apply_from_utc'] = pd.to_datetime(ttf_quotes['apply_from_utc'])
ttf_quotes['timestamp'] = ttf_quotes['apply_from_utc'].astype(np.int64)
ttf_quotes['midprice'] = ttf_quotes['ask_best_price'] - ttf_quotes['bid_best_price']
ttf_quotes.fillna(0, inplace = True)
ttf_quotes.drop_duplicates(inplace = True)


ttf_dict_quotes = ttf_quotes.to_dict(orient = 'list')


ttf_dict_quotes['timestamp'][0]


ttf_quotes['timestamp'][


ttf_midprices = []
for i in range(len(ttf_quotes['midprice'])):
    update = MDCustomUpdate()
    update.EventTimestamp = ttf_quotes['timestamp'][i]
    update.Payload = ttf_quotes['midprice'][i]
    ttf_midprices.append(update)


ttf_quotes


ttf_quotes['timestamp'] = ttf_quotes.appy_from_datetime.value



